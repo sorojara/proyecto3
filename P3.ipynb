{
 "cells": [
  {
   "cell_type": "markdown",
   "metadata": {},
   "source": [
    "---\n",
    "\n",
    "## Universidad de Costa Rica\n",
    "### Escuela de Ingeniería Eléctrica\n",
    "#### IE0405 - Modelos Probabilísticos de Señales y Sistemas\n",
    "\n",
    "Segundo semestre del 2020\n",
    "\n",
    "---\n",
    "\n",
    "* Estudiante: **Jose Ricardo Soro Jara**\n",
    "* Carné: **B36853**\n",
    "* Grupo: **1**\n",
    "\n",
    "\n",
    "# `P3` - *La demanda energética de electricidad en Costa Rica, parte II*\n",
    "\n",
    "> Esta actividad extiende el análisis y modelado realizados anteriormente sobre la demanda eléctrica del país a partir de una base de datos del Instituto Costarricense de Electricidad del 2019. El énfasis ahora es encontrar las relaciones que existen entre los modelos de cada hora analizada.\n",
    "\n",
    "---\n",
    "* Elaboración de nota teórica y demostración: **Jeaustin Sirias Chacón**, como parte de IE0499 - Proyecto Eléctrico: *Estudio y simulación de aplicaciones de la teoría de probabilidad en la ingeniería eléctrica*.\n",
    "* Revisión: **Fabián Abarca Calderón**\n"
   ]
  },
  {
   "cell_type": "markdown",
   "metadata": {},
   "source": [
    "---\n",
    "## 1. - Introducción\n",
    "\n",
    "Ampliando el análisis del Proyecto 2, ahora hacemos referencia a un **vector aleatorio** que contiene una familia de las variables aleatorias en cuestión. Es usual expresar este hecho como:\n",
    "\n",
    "$$\n",
    "\\vec{X} = (X_1, X_2, X_3, \\ldots, X_n)\n",
    "$$\n",
    "\n",
    "Hablar de un conjunto multidimensional $\\vec{X}$ tiene ciertas implicaciones. Cuando un vector aleatorio tiene dos variables aleatorias es posible darle una interpretación con un **sentido espacial**. Por ejemplo, supóngase que hay cierto vector aleatorio $\\vec{V} = (X, Y)$ de dos dimensiones (puesto que, en efecto, hay dos variables aleatorias en $\\vec{V}$). Hacer referecia ahora a un \"plano\" tiene sentido, en especial para evidenciar que cualquier par ordenado $(x_i, y_j)$ representa un punto aleatorio en el plano $XY$. \n",
    "\n",
    "Ahora bien, ¿qué ocurre cuando $\\vec{V}$ es $n$-dimensional?, ¿podría ser sencillo de manipular cinco o siete dimensiones, o es siquiera posible? Este proyecto programado se abordará desde un enfoque práctico para conocer las relaciones que existen en los datos de demanda energética."
   ]
  },
  {
   "cell_type": "markdown",
   "metadata": {},
   "source": [
    "---\n",
    "## 2. - La librería `fitter` para la determinación de modelos probabilísticos\n",
    "\n",
    "Hasta el momento en el curso se han encontrado los parámetros de mejor ajuste entre un conjunto de datos (una \"muestra\") y un modelo probabilístico particular, quizá elegido *arbitrariamente* o por un desarrollado sentido de la intuición, del tipo: \"hmm, esa distribución me parece exponencial\". Sin embargo, está claro que algunos modelos hacen una mejor descripción de los datos que otros, y no siempre se puede encontrar \"a puro ojo\". \n",
    "\n",
    "En el proyecto anterior se construyó una funcion programada específicamente para hallar el modelo de mejor ajuste para una población específica de muestras, para evidenciar una aplicación práctica de las variables aleatorias. Unas pocas distribuciones eran sometidas a prueba (distribución normal, gamma, beta, Burr tipo XII, etc.) como candidatas al mejor modelo de ajuste; no obstante, el módulo `stats` de la biblioteca SciPy ofrece hasta 80 distribuciones distintas, y sería algo tedioso probarlas todas (y hasta brusco en términos del tiempo de ejecución de Python). \n",
    "\n",
    "Para ello la biblioteca [`fitter`](https://fitter.readthedocs.io/en/latest/) será introducida en esta ocasión. Tal cual su nombre lo indica (*ajustador*, en español), esta herramienta provee módulos dedicados a probar todas las distribuciones de `stats`, concluyendo con la mejor distribución (según algún criterio) y sus parámetros de ajuste. Los métodos a emplear del módulo `fitter` son los siguientes:\n",
    "\n",
    "```python\n",
    "from fitter import Fitter # Invocación de la clase Fitter\n",
    "\n",
    "f = Fitter()              # Para instanciar la clase\n",
    "f.fit()                   # Para evaluar las 80+ distribuciones\n",
    "f.get_best()              # Para hallar el mejor modelo \n",
    "```\n",
    "\n",
    "### 2.1. - Instalación de `fitter`\n",
    "\n",
    "Puede verificar si la librería está instalada en su computadora revisando la lista de paquetes de Python, en la terminal\n",
    "\n",
    "```bash\n",
    "pip list\n",
    "```\n",
    "\n",
    "Si no está, se puede instalar con\n",
    "\n",
    "```bash\n",
    "pip install fitter\n",
    "```"
   ]
  },
  {
   "cell_type": "markdown",
   "metadata": {},
   "source": [
    "---\n",
    "## 3. - Funciones auxiliares\n",
    "\n",
    "Es útil implementar ciertas funciones que simplifiquen las asignaciones a resolver, no obstante, se observará que algunas de ellas \"heredan\" características e instrucciones que contenían las funciones en el anterior proyecto. \n",
    "\n",
    "### 3.1. - Funciones implementadas\n",
    "\n",
    "Se contará con las siguientes funciones:\n",
    "\n",
    "1. `extraer_datos(archivo_json, hora)`: Importa la base de datos completa y devuelve los datos de potencia a la hora indicada en un *array* de valores. Esta función es idéntica a la del proyecto anterior.\n",
    "\n",
    "* `distribucion_conjunta(X, Y, bins)`: Pide por parámetros dos variables aleatorias, $X$ y $Y$, y el número de divisones (`bins`) en el histograma. Visualiza un histograma bivariado y retorna los datos de la función bivariada discreta en dos formatos distintos.\n",
    "\n",
    "* `evaluar_modelos(datos)`: Encuentra la distribución de mejor ajuste y retorna los parámetros del modelo correspondiente para la muestra en `datos`.\n",
    "\n",
    "* `densidad_marginal()`: Encuentra la función de densidad marginal de una distribución bivariada haciendo una suma a lo largo de un eje, luego grafica contra el modelo de mejor ajuste.\n",
    "\n",
    "* `energia_diaria(archivo_json)`: Importa la base de datos completa en formato **JSON** y calcula la energía diaria usando [la regla del trapecio](https://es.wikipedia.org/wiki/Regla_del_trapecio) y retorna un vector con el valor de energía de cada día.\n",
    "\n",
    "* `parametros_energia(vector_energia)`: Recibe por parámetro un vector de energía diaria y retorna la media y la desviación estándar basadas en las muestras ingresadas.\n",
    "\n",
    "Las llamadas a bibliotecas de Python de interés para este proyecto programado son:\n",
    "\n",
    "```python\n",
    "# Para manipular datos de interés y calcular resultados\n",
    "import numpy as np \n",
    "\n",
    "# Para evaluar el modelo de mejor ajuste en una población\n",
    "from fitter import Fitter \n",
    "\n",
    "# Para manipular y leer la base de datos de demanda\n",
    "import pandas as pd  \n",
    "\n",
    "# La música de la fiesta\n",
    "from scipy import stats    \n",
    "\n",
    "# Para visualizar resultados relevantes\n",
    "import matplotlib.pyplot as plt  \n",
    "\n",
    "# Para manipulación de formatos temporales\n",
    "from datetime import datetime    \n",
    "```\n",
    "\n",
    "#### 3.1.1. - Importación y acondicionamiento con `extraer_datos`"
   ]
  },
  {
   "cell_type": "code",
   "execution_count": 1,
   "metadata": {},
   "outputs": [],
   "source": [
    "import pandas as pd\n",
    "import numpy as np\n",
    "from datetime import datetime\n",
    "\n",
    "def extraer_datos(archivo_json, hora):\n",
    "    '''Importa la base de datos completa y devuelve los\n",
    "    datos de potencia a la hora indicada en un\n",
    "    array de valores.\n",
    "    '''\n",
    "    \n",
    "    # Cargar el \"DataFrame\"\n",
    "    df = pd.read_json(archivo_json) \n",
    "    \n",
    "    # Convertir en un array de NumPy\n",
    "    datos = np.array(df)                \n",
    "\n",
    "    # Crear vector con los valores demanda en una hora\n",
    "    demanda = []\n",
    "\n",
    "    # Extraer la demanda diaria en la hora seleccionada\n",
    "    for i in range(len(datos)):\n",
    "        instante = datetime.fromisoformat(datos[i][0]['fechaHora'])\n",
    "        if instante.hour == hora:\n",
    "            demanda.append(datos[i][0]['MW'])\n",
    "\n",
    "    return demanda"
   ]
  },
  {
   "cell_type": "markdown",
   "metadata": {},
   "source": [
    "#### 3.1.2. - Parámetros y modelos de mejor ajuste con `distribucion_conjunta`"
   ]
  },
  {
   "cell_type": "code",
   "execution_count": 2,
   "metadata": {},
   "outputs": [
    {
     "data": {
      "text/plain": [
       "'3.7.9 (default, Aug 18 2020, 06:24:24) \\n[GCC 5.4.0 20160609]'"
      ]
     },
     "execution_count": 2,
     "metadata": {},
     "output_type": "execute_result"
    }
   ],
   "source": [
    "import numpy as np\n",
    "import matplotlib.pyplot as plt\n",
    "from mpl_toolkits.mplot3d import Axes3D\n",
    "\n",
    "def distribucion_conjunta(X, Y, bins):\n",
    "    '''Pide por parámetros dos variables aleatorias\n",
    "    X y Y, así como el número de 'bins' o divisiones\n",
    "    a emplear para construir el histograma bivariado.\n",
    "    Crea una gráfica y retorna dos tablas de datos de\n",
    "    pares ordenados x, y y su probabilidad p asociada.\n",
    "    '''\n",
    "    \n",
    "    np.seterr(all='ignore') # ignorar advertencias\n",
    "  \n",
    "    # Se inicializa la figura interactiva 3D\n",
    "    fig = plt.figure()\n",
    "    ax = fig.add_subplot(111, projection='3d')\n",
    "\n",
    "    # Se obtiene el plano de probabilidades para graficar el hist3D\n",
    "    hist, xbins, ybins = np.histogram2d(X, Y, bins=bins, normed=False)\n",
    "    hist = hist / sum(sum(hist)) # normalización\n",
    "    xbins = (xbins + np.roll(xbins, -1))[:-1] / 2.0 \n",
    "    ybins = (ybins + np.roll(ybins, -1))[:-1] / 2.0 \n",
    "    \n",
    "    # Formatos de retorno para la funcion de densidad bivariada discreta\n",
    "    xyp = [[xbins[i], ybins[j], hist[i][j]] for i in range(bins) for j in range(bins)]\n",
    "    xy = hist \n",
    "\n",
    "    # Se construyen los arreglos para el ancho de bins * bins barras\n",
    "    xpos, ypos = np.meshgrid(xbins, ybins, indexing=\"ij\")\n",
    "    xpos = xpos.ravel()\n",
    "    ypos = ypos.ravel()\n",
    "    zpos = 0\n",
    "\n",
    "    # Se dimensiona el ancho visual de las barras (como un sólido).\n",
    "    dx = dy = 30 * np.ones_like(zpos)\n",
    "    dz = hist.ravel() \n",
    "\n",
    "    # Se visualiza el histograma 3D\n",
    "    ax.bar3d(xpos, ypos, zpos, dx, dy, dz, zsort='average')\n",
    "    ax.set_xlabel('La hora 1, $X$')\n",
    "    ax.set_ylabel('La hora 2, $Y$')\n",
    "    ax.set_zlabel('Probabilidad')\n",
    "    plt.show()\n",
    "\n",
    "    return xyp, xy, xbins, ybins\n",
    "\n",
    "import sys\n",
    "sys.version\n",
    "    "
   ]
  },
  {
   "cell_type": "markdown",
   "metadata": {},
   "source": [
    "Obsérvese que la función anterior retorna los datos de la función bivariada sobre la base de las variables aleatorias $X$ y $Y$ en dos arreglos distintos `xyp` y `xy` con el objetivo de simplificar la manipulación de datos en las actividades por realizar. Lucen de la siguiente forma:\n",
    "\n",
    "**El formato `xyp`**\n",
    "\n",
    "```python\n",
    "    x   y      P\n",
    "0  x1  y1  0.001\n",
    "1  x1  y2  0.020\n",
    "2  x1  y3  0.092\n",
    "3  x2  y1  0.093\n",
    "4  x2  y2  0.083\n",
    ".   .   .    .\n",
    "n  xn  yn   Pn\n",
    "```\n",
    "\n",
    "**El formato `xy`**\n",
    "\n",
    "```python\n",
    "      y1      y2      y3      y4    .   yn\n",
    "x1  0.030  0.0400  0.0400  0.0400   .    .\n",
    "x2  0.090  0.0056  0.0400  0.0860   .    .\n",
    "x3  0.005  0.0450  0.0690  0.0010   .    .\n",
    "x4  0.060  0.0230  0.0025  0.0014   .    .\n",
    ".     .       .       .       .     .    .\n",
    "xn    .       .       .       .     .    .\n",
    "```\n",
    "\n",
    "En ambos casos, independientemente, se puede interpretar los elementos $x_n$ y $y_n$ (de las variables `xbins` y `ybins`) como los puntos medios de las divisiones por dimensión (`bins`). Para este caso ambas dimensiones tendrán siempre la misma cantidad de divisiones, $n$, por la forma en que se ha programado la función `distribucion_conjunta`.\n",
    "\n",
    "#### 3.1.3. - Determinación del modelo de mejor ajuste con `evaluar_modelos`"
   ]
  },
  {
   "cell_type": "code",
   "execution_count": 3,
   "metadata": {},
   "outputs": [],
   "source": [
    "from fitter import Fitter\n",
    "\n",
    "def evaluar_modelos(datos):\n",
    "    '''Evalúa las 80 distribuciones del módulo stats\n",
    "    y obtiene el el modelo de mejor ajuste para\n",
    "    la demanda anual de una hora específica. Retorna\n",
    "    el nombre de la mejor distribución y una tupla con\n",
    "    los parámetros del modelo.\n",
    "    '''\n",
    "    \n",
    "    np.seterr(all='ignore') # ignorar advertencias\n",
    "    \n",
    "    # Hallar el mejor ajuste con Fitter\n",
    "    f = Fitter(datos, timeout=120)\n",
    "    f.fit()\n",
    "    ajuste = f.get_best()\n",
    "    \n",
    "    for i in ajuste.keys():\n",
    "        dist, params = i, ajuste[i]\n",
    "\n",
    "    print('------------\\nDistribución\\n------------')\n",
    "    print(dist, '\\n')\n",
    "    print('----------\\nParámetros\\n----------')\n",
    "    print(params)\n",
    "\n",
    "    return dist, params"
   ]
  },
  {
   "cell_type": "markdown",
   "metadata": {},
   "source": [
    "#### 3.1.4. - Comparación de la densidad marginal y un modelo con `densidad_marginal`"
   ]
  },
  {
   "cell_type": "code",
   "execution_count": 4,
   "metadata": {},
   "outputs": [],
   "source": [
    "import numpy as np\n",
    "from scipy import stats\n",
    "import matplotlib.pyplot as plt\n",
    "\n",
    "def densidad_marginal(xy, bins, dist, params, eje):\n",
    "    '''Encuentra la función de densidad marginal de una\n",
    "    distribución bivariada haciendo una suma a lo largo de\n",
    "    un eje, luego grafica contra el modelo de mejor ajuste.\n",
    "    Se elige eje='x' o eje='y', según sea el caso para la \n",
    "    densidad marginal en Y o en X. El parámetro 'xy' es la\n",
    "    tabla de datos, 'bins' es el vector de valores de potencia \n",
    "    xbins o ybins. Los parámetros 'dist' y 'params' corresponden\n",
    "    al modelo de mejor ajuste retornado por la librería fitter.\n",
    "    '''\n",
    "    \n",
    "    np.seterr(all='ignore') # ignorar advertencias\n",
    "    \n",
    "    # Hallar la densidad marginal de X o Y, según se indique en 'eje'\n",
    "    if eje == 'x':\n",
    "        filas = len(xy)\n",
    "        marginal = [sum(xy[i]) for i in range(filas)]\n",
    "    elif eje == 'y':\n",
    "        xy = xy.transpose()\n",
    "        filas = len(xy)\n",
    "        marginal = [sum(xy[i]) for i in range(filas)]\n",
    "\n",
    "    # Visualizar modelo de mejor ajuste\n",
    "    distro = getattr(stats, dist) \n",
    "    d = np.arange(min(bins)*0.96, max(bins)*1.04, 1)\n",
    "    pdf_plot = distro.pdf(d, *params)\n",
    "    plt.plot(d, pdf_plot*22, lw=3.5, color='r')\n",
    "    \n",
    "    # Visualizar función de densidad marginal\n",
    "    plt.bar(bins, marginal, width=12)\n",
    "    plt.title('Contraste: densidad marginal vs. modelo de mejor ajuste')\n",
    "    plt.xlabel('Potencia [MW]')\n",
    "    plt.ylabel('Densidad Probabilística')\n",
    "    plt.show()\n",
    "    \n",
    "    return marginal"
   ]
  },
  {
   "cell_type": "markdown",
   "metadata": {},
   "source": [
    "#### 3.1.5. - Calculando el consumo diario y parámetros relevantes con `energia_diaria`"
   ]
  },
  {
   "cell_type": "code",
   "execution_count": 5,
   "metadata": {},
   "outputs": [],
   "source": [
    "import pandas as pd\n",
    "import numpy as np\n",
    "from datetime import datetime\n",
    "\n",
    "def energia_diaria(archivo_json):\n",
    "    '''Importa la base de datos completa y devuelve\n",
    "    un vector con la energía diaria, en MWh.\n",
    "    '''\n",
    "    \n",
    "    # Cargar el \"DataFrame\"\n",
    "    df = pd.read_json(archivo_json) \n",
    "\n",
    "    # Convertir en un array de NumPy\n",
    "    datos = np.array(df)  \n",
    "\n",
    "    # Crear vector con todos los valores horarios de demanda\n",
    "    demanda = []\n",
    "\n",
    "    # Extraer la magnitud de la demanda para todas las horas\n",
    "    for hora in range(len(datos)):\n",
    "        instante = datetime.fromisoformat(datos[hora][0]['fechaHora'])\n",
    "        demanda.append(datos[hora][0]['MW'])\n",
    "\n",
    "    # Separar las magnitudes en grupos de 24 (24 h)\n",
    "    demanda = np.split(np.array(demanda), len(demanda) / 24)\n",
    "\n",
    "    # Crear vector para almacenar la enegia a partir de la demanda\n",
    "    energia = []\n",
    "\n",
    "    # Calcular la energía diaria por la regla del trapecio\n",
    "    for dia in range(len(demanda)):\n",
    "        E = round(np.trapz(demanda[dia]), 2)\n",
    "        energia.append(E)\n",
    "\n",
    "    return energia"
   ]
  },
  {
   "cell_type": "markdown",
   "metadata": {},
   "source": [
    "#### 3.1.6. - Determinación de parámetros del consumo diario con `parametros_energia`"
   ]
  },
  {
   "cell_type": "code",
   "execution_count": 6,
   "metadata": {},
   "outputs": [],
   "source": [
    "import numpy as np\n",
    "\n",
    "def parametros_energia(vector_energia):\n",
    "    '''Calcula los parámetros media y desviación\n",
    "    estándar en el vector de energía.\n",
    "    '''\n",
    "\n",
    "    media = np.mean(vector_energia)\n",
    "    desviacion = np.std(vector_energia)\n",
    "\n",
    "    return media, desviacion\n",
    "\n",
    "def sumaEl(vector_energia):\n",
    "    return sum(vector_energia), len(vector_energia)"
   ]
  },
  {
   "cell_type": "markdown",
   "metadata": {},
   "source": [
    "### 3.2. - Probando las funciones implementadas\n",
    "\n",
    "Ahora bien, se puede elaborar una breve demostración práctica basada en las funciones anteriormente implementadas, haciendo sus respectivas llamadas:"
   ]
  },
  {
   "cell_type": "code",
   "execution_count": 7,
   "metadata": {},
   "outputs": [
    {
     "data": {
      "image/png": "[encoded data removed]",
      "text/plain": [
       "<Figure size 432x288 with 1 Axes>"
      ]
     },
     "metadata": {
      "needs_background": "light"
     },
     "output_type": "display_data"
    }
   ],
   "source": [
    "# Se eligen las dos horas que desean estudiarse\n",
    "hora_1 = extraer_datos('demanda_2019.json', 3) \n",
    "hora_2 = extraer_datos('demanda_2019.json', 11) \n",
    "\n",
    "# Se ejecuta el análisis bivariado\n",
    "xyp, xy, xbins, ybins = distribucion_conjunta(hora_1, hora_2, bins = 10)"
   ]
  },
  {
   "cell_type": "code",
   "execution_count": 8,
   "metadata": {},
   "outputs": [],
   "source": [
    "# Se llama obtiene los parámetros de mejor ajuste para cada hora\n",
    "#dist, params = evaluar_modelos(hora_1)\n",
    "\n",
    "# Nota: esta función es de más lenta ejecución"
   ]
  },
  {
   "cell_type": "code",
   "execution_count": 9,
   "metadata": {},
   "outputs": [],
   "source": [
    "# Se contrasta la densidad marginal para cada hora, según su eje\n",
    "\n",
    "#densidad_marginal(xy, xbins, dist, params, eje='x')"
   ]
  },
  {
   "cell_type": "markdown",
   "metadata": {},
   "source": [
    "---\n",
    "## 4. - Asignaciones del proyecto\n",
    "\n",
    "El análisis se hará sobre dos horas distintas del día, elegidas de forma aleatoria: una dentro de horas punta y otra no. \n",
    "\n",
    "**Asignación de horas**\n",
    "\n",
    "La siguiente función utiliza los dígitos numéricos del carné de cada estudiante para asignar las horas con las que se construirán la variables aleatoria $X$ y la variable aleatoria $Y$. \n",
    "\n",
    "**Ejemplo**: el carné B12345 utiliza los dígitos 12345 y obtiene las horas 19 y 7."
   ]
  },
  {
   "cell_type": "code",
   "execution_count": 10,
   "metadata": {},
   "outputs": [],
   "source": [
    "import random\n",
    "\n",
    "def horas_asignadas(digitos):\n",
    "    '''Elige una hora A en periodo punta\n",
    "    y una hora B de los otros periodos,\n",
    "    con los dígitos del carné como \"seed\"\n",
    "    '''\n",
    "    \n",
    "    random.seed(digitos)\n",
    "    punta = [11, 12, 18, 19, 20]\n",
    "    valle = [7, 8, 9, 10, 13, 14, 15, 16, 17]\n",
    "    nocturno = [21, 22, 23, 0, 1, 2, 3, 4, 5, 6]\n",
    "    otro = valle + nocturno\n",
    "    HX = punta[random.randrange(0, len(punta))]\n",
    "    HY = otro[random.randrange(0, len(otro))]\n",
    "    horas = 'Hora X: {}, hora Y: {}'.format(HX, HY)\n",
    "    return horas"
   ]
  },
  {
   "cell_type": "code",
   "execution_count": 11,
   "metadata": {},
   "outputs": [
    {
     "name": "stdout",
     "output_type": "stream",
     "text": [
      "Hora X: 19, hora Y: 3\n",
      "Help on function horas_asignadas in module __main__:\n",
      "\n",
      "horas_asignadas(digitos)\n",
      "    Elige una hora A en periodo punta\n",
      "    y una hora B de los otros periodos,\n",
      "    con los dígitos del carné como \"seed\"\n",
      "\n"
     ]
    }
   ],
   "source": [
    "mis_horas = horas_asignadas(36853)\n",
    "print(mis_horas)\n",
    "\n",
    "HX = 19\n",
    "HY =  3\n",
    "\n",
    "# Bonus: los \"docstrings\" y la función help()\n",
    "help(horas_asignadas)"
   ]
  },
  {
   "cell_type": "markdown",
   "metadata": {},
   "source": [
    "### 4.1. - Función distribución múltiple bivariada\n",
    "\n",
    "Es posible analizar una variable aleatoria en relación con otra. Para empezar, se puede visualizar su comportamiento \"conjunto\".\n",
    "\n",
    "* (10%) Visualice los datos de la variable aleatoria múltiple a las dos horas elegidas, en la forma de un histograma conjunto.\n",
    "* (15%) Determine las funciones de densidad marginales $f_X(x)$ y $f_Y(y)$ a partir de los datos y utilizando un modelo de mejor ajuste.\n",
    "* (10%) Determine los valores esperados $E[X]$ y $E[Y]$ de los datos.\n",
    "\n",
    "En este proyecto no deduciremos la *función de densidad conjunta*, que en general necesita de otros métodos numéricos para encontrar una expresión algebraica."
   ]
  },
  {
   "cell_type": "code",
   "execution_count": 12,
   "metadata": {},
   "outputs": [
    {
     "data": {
      "image/png": "[encoded data removed]",
      "text/plain": [
       "<Figure size 432x288 with 1 Axes>"
      ]
     },
     "metadata": {
      "needs_background": "light"
     },
     "output_type": "display_data"
    },
    {
     "data": {
      "text/html": [
       "\n",
       "            <div style=\"float: left; border: 1px solid black; width:500px\">\n",
       "              <div id=\"5dde4cd4-c29c-40fd-9b89-73373ea96fe6\" style=\"background-color:blue; width:0%\">&nbsp;</div>\n",
       "            </div>\n",
       "            <label id=\"8550d02b-74e5-4095-9c63-421ae48bf81d\" style=\"padding-left: 10px;\" text = \"\"/>\n",
       "            "
      ],
      "text/plain": [
       "<IPython.core.display.HTML object>"
      ]
     },
     "metadata": {},
     "output_type": "display_data"
    },
    {
     "name": "stderr",
     "output_type": "stream",
     "text": [
      "WARNING:root:SKIPPED erlang distribution (taking more than 120 seconds)\n",
      "WARNING:root:SKIPPED geninvgauss distribution (taking more than 120 seconds)\n",
      "WARNING:root:SKIPPED kstwo distribution (taking more than 120 seconds)\n",
      "WARNING:root:SKIPPED rv_continuous distribution (taking more than 120 seconds)\n",
      "WARNING:root:SKIPPED rv_histogram distribution (taking more than 120 seconds)\n"
     ]
    },
    {
     "name": "stdout",
     "output_type": "stream",
     "text": [
      "------------\n",
      "Distribución\n",
      "------------\n",
      "burr \n",
      "\n",
      "----------\n",
      "Parámetros\n",
      "----------\n",
      "(8833278.606697915, 16246187.238001697, -69810.88706874047, 69829.75580594147)\n"
     ]
    },
    {
     "data": {
      "text/html": [
       "\n",
       "            <div style=\"float: left; border: 1px solid black; width:500px\">\n",
       "              <div id=\"cbba6490-c098-4252-b9a2-f652b0bb5e4a\" style=\"background-color:blue; width:0%\">&nbsp;</div>\n",
       "            </div>\n",
       "            <label id=\"de9c8923-f882-4630-aeb1-e57de4194554\" style=\"padding-left: 10px;\" text = \"\"/>\n",
       "            "
      ],
      "text/plain": [
       "<IPython.core.display.HTML object>"
      ]
     },
     "metadata": {},
     "output_type": "display_data"
    },
    {
     "name": "stderr",
     "output_type": "stream",
     "text": [
      "WARNING:root:SKIPPED erlang distribution (taking more than 120 seconds)\n",
      "WARNING:root:SKIPPED geninvgauss distribution (taking more than 120 seconds)\n",
      "WARNING:root:SKIPPED kstwo distribution (taking more than 120 seconds)\n",
      "WARNING:root:SKIPPED rv_continuous distribution (taking more than 120 seconds)\n",
      "WARNING:root:SKIPPED rv_histogram distribution (taking more than 120 seconds)\n"
     ]
    },
    {
     "name": "stdout",
     "output_type": "stream",
     "text": [
      "------------\n",
      "Distribución\n",
      "------------\n",
      "burr \n",
      "\n",
      "----------\n",
      "Parámetros\n",
      "----------\n",
      "(6581522.801907464, 9782737.078514162, -18905.75306980237, 18908.70681465226)\n"
     ]
    },
    {
     "data": {
      "image/png": "[encoded data removed]",
      "text/plain": [
       "<Figure size 432x288 with 1 Axes>"
      ]
     },
     "metadata": {
      "needs_background": "light"
     },
     "output_type": "display_data"
    },
    {
     "data": {
      "image/png": "[encoded data removed]",
      "text/plain": [
       "<Figure size 432x288 with 1 Axes>"
      ]
     },
     "metadata": {
      "needs_background": "light"
     },
     "output_type": "display_data"
    },
    {
     "name": "stdout",
     "output_type": "stream",
     "text": [
      "El valor esperado en la hora 1 es: 1551.769210\n",
      "El valor esperado en la hora 2 es: 948.015476\n"
     ]
    }
   ],
   "source": [
    "# 4.1. - Función distribución múltiple bivariada\n",
    "\n",
    "hora_1 = extraer_datos('demanda_2019.json', HX) \n",
    "hora_2 = extraer_datos('demanda_2019.json', HY) \n",
    "\n",
    "# Se ejecuta el análisis bivariado\n",
    "xyp, xy, xbins, ybins = distribucion_conjunta(hora_1, hora_2, bins = 10)\n",
    "\n",
    "dist, params = evaluar_modelos(HX)\n",
    "\n",
    "dist2, params2 = evaluar_modelos(HY)\n",
    "\n",
    "densidad_marginal(xy, xbins, dist, params, eje='x')\n",
    "\n",
    "densidad_marginal(xy, ybins, dist2, params2, eje='x')\n",
    "\n",
    "filas = len(xy)\n",
    "marginal = [sum(xy[i]) for i in range(filas)]\n",
    "\n",
    "res_list1 = [] \n",
    "for i in range(0, len(xbins)): \n",
    "    res_list1.append(xbins[i] * marginal[i])\n",
    "    \n",
    "res_list2 = [] \n",
    "for i in range(0, len(ybins)): \n",
    "    res_list2.append(ybins[i] * marginal[i])\n",
    "\n",
    "ve1 = sum(res_list1)\n",
    "ve2 = sum(res_list2)\n",
    "print(\"El valor esperado en la hora 1 es: %f\"%(ve1))\n",
    "print(\"El valor esperado en la hora 2 es: %f\"%(ve2))\n"
   ]
  },
  {
   "cell_type": "markdown",
   "metadata": {},
   "source": [
    "### 4.2. - Correlación entre el consumo a distintas horas del día\n",
    "\n",
    "¿Un alto consumo de potencia a la hora $X$ está correlacionado con un alto consumo de potencia a la hora $Y$ del mismo día? Esta pregunta puede abordarse con las métricas de correlación y covarianza entre dos variables aleatorias.\n",
    "\n",
    "* (15%) Calcule la correlación entre $X$ y $Y$, $E[XY] = R_{XY}$. Para esto, puede utilizar los datos provistos y la versión discreta de la fórmula de correlación, dada por $$\\begin{aligned} R_{XY} = m_{11} & = E[XY] \\\\ & = \\sum_{x=-\\infty}^{\\infty} \\sum_{y=-\\infty}^{\\infty} x y ~ p(x, y) \\end{aligned}$$ donde $p(x, y)$ son las probabilidades asociadas a cada par $(x, y)$.\n",
    "* (10%) Análisis: ¿están correlacionadas estas variables? Recordar que la prueba de correlación es $E[XY] = E[X]E[Y]$ (puede aplicar una tolerancia del 5%).\n",
    "* (10%) Determine la covarianza y el índice de correlación de Pearson.\n",
    "* (10%) Análisis: ¿qué implica este valor del índice de correlación de Pearson?"
   ]
  },
  {
   "cell_type": "code",
   "execution_count": 13,
   "metadata": {},
   "outputs": [
    {
     "name": "stdout",
     "output_type": "stream",
     "text": [
      "Correlacion: 0.987314\n",
      "Por lo tanto SI están correlacionadas con el margen de tolerancia de 5%\n",
      "-5.2881944136831285\n"
     ]
    }
   ],
   "source": [
    "# 4.2. - Correlación entre el consumo a distintas horas del día\n",
    "x=0\n",
    "for i in xyp:\n",
    "    x += i[0]*i[1]*i[2]\n",
    "\n",
    "correlacion = x/(ve1*ve2)\n",
    "print(\"Correlacion: %f\"%(correlacion))\n",
    "print(\"Por lo tanto SI están correlacionadas con el margen de tolerancia de 5%\")\n",
    "\n",
    "covarianza = x -ve1*ve2\n",
    "\n",
    "de1 = np.std(hora_1)\n",
    "de2 = np.std(hora_2)\n",
    "\n",
    "correl_pearson = covarianza/(de1*de2)\n",
    "print(correl_pearson)\n",
    "\n"
   ]
  },
  {
   "cell_type": "markdown",
   "metadata": {},
   "source": [
    "### 4.3. - Análisis de consumo de energía semanal\n",
    "\n",
    "Semana a semana hay un consumo total de **energía** en el país. Este valor cambia aleatoriamente, pero, ¿será posible modelar su distribución de probabilidad? Más aún, ¿es posible predecir su distribución utilizando el teorema del limíte central y el conocimiento del consumo *diario* de energía?\n",
    "\n",
    "Si el consumo de energía de *cada día de la semana* es una variable aleatoria $E_L, E_K, \\ldots, E_D$, entonces el consumo total semanal está dado por:\n",
    "\n",
    "$$\n",
    "S_E = E_L + E_K + E_M + E_J + E_V + E_S + E_D\n",
    "$$\n",
    "\n",
    "El teorema del límite central para la suma, en la versión estudiada, aplica para la suma de variables aleatorias **iid** (*independientes e idénticamente distribuidas*). Esta suposición **no** aplica para los datos estudiados dado que, por ejemplo, el consumo del lunes no es el mismo que el del domingo. Sin embargo, se hará la aproximación con unos parámetros únicos $\\mu$ (la media) y $\\sigma$ (la desviación estándar) para la energía consumida durante todos los días del año.\n",
    "\n",
    "Conocidos estos parámetros y considerando \"razonablemente grande\" la cantidad de elementos en la suma $N = 7$, el teorema establece que\n",
    "\n",
    "$$\n",
    "Z = \\frac{S_E - \\mu_{S_E}}{\\sigma_{S_E}} = \\frac{S_N - N\\mu}{\\sigma \\sqrt{N}}\n",
    "$$\n",
    "\n",
    "tendrá una distribución $Z \\sim \\mathcal{N}(0, 1)$, es decir, normal estandarizada.\n",
    "\n",
    "* (20 %) Evalúe la hipótesis descrita. Comente los resultados.\n",
    "\n",
    "Para esto puede crear un histograma con los resultados del consumo de energía *semanal*. Puede además calcular los parámetros $\\mu$ (la media) y $\\sigma$ (la desviación estándar) de la energía diaria consumida y estimar la distribución de $S_E$."
   ]
  },
  {
   "cell_type": "code",
   "execution_count": 14,
   "metadata": {},
   "outputs": [
    {
     "name": "stdout",
     "output_type": "stream",
     "text": [
      "Valor de comparacion 1: 81.231014\n",
      "Valor de comparacion 2: 339.344053\n"
     ]
    }
   ],
   "source": [
    "import math\n",
    "# 4.3. - Análisis de consumo de energía semanal\n",
    "archivo_json = []\n",
    "for x in range(7):\n",
    "    archivo_json.append(extraer_datos('demanda_2019.json', x)) \n",
    "c1=parametros_energia(energia_diaria('demanda_2019.json'))\n",
    "\n",
    "datos = archivo_json\n",
    "\n",
    "demanda = []\n",
    "\n",
    "# Extraer la magnitud de la demanda para todas las horas\n",
    "for hora in range(len(datos)):\n",
    "    #instante = datetime.fromisoformat(datos[hora][0]['fechaHora'])\n",
    "    demanda.append(datos[hora])\n",
    "\n",
    "# Separar las magnitudes en grupos de 24 (24 h)\n",
    "\n",
    "\n",
    "# Crear vector para almacenar la enegia a partir de la demanda\n",
    "energia = []\n",
    "\n",
    "# Calcular la energía diaria por la regla del trapecio\n",
    "for dia in range(len(demanda)):\n",
    "    E = round(np.trapz(demanda[dia]), 2)\n",
    "    energia.append(E)\n",
    "\n",
    "c2 = sumaEl(energia)    \n",
    "    \n",
    "media = np.mean(energia)\n",
    "desviacion = np.std(energia)\n",
    "suma = sum(energia)\n",
    "N=7\n",
    "\n",
    "\n",
    "mediaT= c1[0]\n",
    "desviacionT= c1[1]\n",
    "sumaT = c2[0]\n",
    "NT = c2[1]\n",
    "\n",
    "m= (suma - media)/(desviacion)\n",
    "mT= (suma - N*mediaT)/(desviacionT*math.sqrt(N))\n",
    "\n",
    "print(\"Valor de comparacion 1: %f\"%(m))\n",
    "print(\"Valor de comparacion 2: %f\"%(mT))\n",
    "    \n"
   ]
  },
  {
   "cell_type": "markdown",
   "metadata": {},
   "source": [
    "---\n",
    "\n",
    "### Universidad de Costa Rica\n",
    "#### Facultad de Ingeniería\n",
    "##### Escuela de Ingeniería Eléctrica\n",
    "\n",
    "---"
   ]
  }
 ],
 "metadata": {
  "kernelspec": {
   "display_name": "Python 3",
   "language": "python",
   "name": "python3"
  },
  "language_info": {
   "codemirror_mode": {
    "name": "ipython",
    "version": 3
   },
   "file_extension": ".py",
   "mimetype": "text/x-python",
   "name": "python",
   "nbconvert_exporter": "python",
   "pygments_lexer": "ipython3",
   "version": "3.7.9"
  }
 },
 "nbformat": 4,
 "nbformat_minor": 2
}
